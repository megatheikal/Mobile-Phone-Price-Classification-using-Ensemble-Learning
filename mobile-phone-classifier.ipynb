{
  "nbformat": 4,
  "nbformat_minor": 0,
  "metadata": {
    "colab": {
      "name": "ProjectML.ipynb",
      "provenance": []
    },
    "kernelspec": {
      "name": "python3",
      "display_name": "Python 3"
    }
  },
  "cells": [
    {
      "cell_type": "markdown",
      "metadata": {
        "id": "yIJV0qXkHk1n"
      },
      "source": [
        "**Import Libraries**"
      ]
    },
    {
      "cell_type": "code",
      "metadata": {
        "id": "smgcTZSZQeEa"
      },
      "source": [
        "# Importing libraries\n",
        "import pandas as pd\n",
        "import numpy as np\n",
        "import seaborn as sns\n",
        "import matplotlib.pyplot as plt #for visualizations\n",
        "#Import libraries\n",
        "from sklearn.metrics import confusion_matrix #confusion matrix\n",
        "from sklearn.neighbors import KNeighborsClassifier #KNN\n",
        "from sklearn.svm import SVC #SVM\n",
        "from sklearn.tree import DecisionTreeClassifier #DecisionTree\n",
        "from sklearn.ensemble import VotingClassifier  #VotingClassifier\n",
        "from sklearn.model_selection import train_test_split #Split data into training and validation sets.\n",
        "from sklearn.metrics import accuracy_score, precision_score,recall_score #Accuracy Score\n"
      ],
      "execution_count": null,
      "outputs": []
    },
    {
      "cell_type": "code",
      "metadata": {
        "id": "aBXSrImcS-Ei",
        "colab": {
          "base_uri": "https://localhost:8080/"
        },
        "outputId": "b4820f07-04fe-4a2c-922a-e7e37fe30424"
      },
      "source": [
        "mobile_train = pd.read_csv(\"/content/train.csv\")\n",
        "mobile_train.describe"
      ],
      "execution_count": null,
      "outputs": [
        {
          "output_type": "execute_result",
          "data": {
            "text/plain": [
              "<bound method NDFrame.describe of       battery_power  blue  clock_speed  ...  touch_screen  wifi  price_range\n",
              "0               842     0          2.2  ...             0     1            1\n",
              "1              1021     1          0.5  ...             1     0            2\n",
              "2               563     1          0.5  ...             1     0            2\n",
              "3               615     1          2.5  ...             0     0            2\n",
              "4              1821     1          1.2  ...             1     0            1\n",
              "...             ...   ...          ...  ...           ...   ...          ...\n",
              "1995            794     1          0.5  ...             1     0            0\n",
              "1996           1965     1          2.6  ...             1     1            2\n",
              "1997           1911     0          0.9  ...             1     0            3\n",
              "1998           1512     0          0.9  ...             1     1            0\n",
              "1999            510     1          2.0  ...             1     1            3\n",
              "\n",
              "[2000 rows x 21 columns]>"
            ]
          },
          "metadata": {
            "tags": []
          },
          "execution_count": 16
        }
      ]
    },
    {
      "cell_type": "code",
      "metadata": {
        "id": "6BwYnErvsJpr",
        "colab": {
          "base_uri": "https://localhost:8080/"
        },
        "outputId": "29a06ee4-1551-4b25-fe66-24a2c72f8f5e"
      },
      "source": [
        "mobile_train.columns"
      ],
      "execution_count": null,
      "outputs": [
        {
          "output_type": "execute_result",
          "data": {
            "text/plain": [
              "Index(['battery_power', 'blue', 'clock_speed', 'dual_sim', 'fc', 'four_g',\n",
              "       'int_memory', 'm_dep', 'mobile_wt', 'n_cores', 'pc', 'px_height',\n",
              "       'px_width', 'ram', 'sc_h', 'sc_w', 'talk_time', 'three_g',\n",
              "       'touch_screen', 'wifi', 'price_range'],\n",
              "      dtype='object')"
            ]
          },
          "metadata": {
            "tags": []
          },
          "execution_count": 17
        }
      ]
    },
    {
      "cell_type": "code",
      "metadata": {
        "id": "rXEV785EBCXu",
        "colab": {
          "base_uri": "https://localhost:8080/"
        },
        "outputId": "d6156b46-8736-41f4-894f-24b130b44668"
      },
      "source": [
        "#check the shape \r\n",
        "mobile_train.shape"
      ],
      "execution_count": null,
      "outputs": [
        {
          "output_type": "execute_result",
          "data": {
            "text/plain": [
              "(2000, 21)"
            ]
          },
          "metadata": {
            "tags": []
          },
          "execution_count": 14
        }
      ]
    },
    {
      "cell_type": "code",
      "metadata": {
        "id": "4h8P5hrIYFQI"
      },
      "source": [
        "#Split data into training and validation set\n",
        "X = mobile_train.drop(columns=['price_range'], axis=1)\n",
        "y = mobile_train['price_range']\n",
        "\n",
        "#Note they are labeled as test sets but I'm treating them as validation data sets.\n",
        "X_train, X_test, y_train, y_test = train_test_split(X, y, test_size=0.30)\n"
      ],
      "execution_count": null,
      "outputs": []
    },
    {
      "cell_type": "code",
      "metadata": {
        "id": "N3ZATCP9Z8Qs"
      },
      "source": [
        "score_array = []\n",
        "for each in range(1,25):\n",
        "    knn_loop = KNeighborsClassifier(n_neighbors = each) #set K neighbor as 3\n",
        "    knn_loop.fit(X_train, y_train)\n",
        "    score_array.append(knn_loop.score(X_test,y_test))\n",
        "    \n",
        "plt.plot(range(1,25),score_array)\n",
        "plt.xlabel(\"Range\")\n",
        "plt.ylabel(\"Score\")\n",
        "plt.show()\n",
        "\n"
      ],
      "execution_count": null,
      "outputs": []
    },
    {
      "cell_type": "code",
      "metadata": {
        "id": "c51AH2Ucas3W"
      },
      "source": [
        "knn_final = KNeighborsClassifier(n_neighbors = 17) #set K neighbor as 17\n",
        "knn_final.fit(X_train,y_train)\n",
        "predicted_y = knn_final.predict(X_test)\n",
        "print(\"KNN accuracy according to K=17 is :\",accuracy_score(y_test,predicted_y)*100)\n",
        "print(\"KNN percision according to K=17 is :\",precision_score(y_test,predicted_y,average ='weighted')*100)\n",
        "print(\"KNN sensitivity according to K=17 is :\",recall_score(y_test,predicted_y,average ='weighted')*100)\n",
        "\n",
        "\n",
        "\n",
        "cm_knn = confusion_matrix(y_test,predicted_y)"
      ],
      "execution_count": null,
      "outputs": []
    },
    {
      "cell_type": "code",
      "metadata": {
        "id": "N9DV26L7-WMf"
      },
      "source": [
        "# instantiate classifier with default hyperparameters\r\n",
        "svc=SVC() \r\n",
        "\r\n",
        "\r\n",
        "# fit classifier to training set\r\n",
        "svc.fit(X_train,y_train)\r\n",
        "\r\n",
        "\r\n",
        "# make predictions on test set\r\n",
        "y_pred=svc.predict(X_test)\r\n",
        "\r\n",
        "\r\n",
        "# compute and print accuracy score\r\n",
        "print('Model accuracy score with default hyperparameters: {0:0.4f}'. format(accuracy_score(y_test, y_pred)*100))\r\n",
        "print(\"Model precision score with default hyperparameters: {0:0.4f}\". format(precision_score(y_test,y_pred,average='weighted')*100))\r\n",
        "print(\"Model sensitivity score with default hyperparameters: {0:0.4f}\". format(recall_score(y_test,y_pred,average='weighted')*100))\r\n",
        "\r\n",
        "\r\n",
        "\r\n",
        "cm_svm = confusion_matrix(y_test,y_pred)\r\n"
      ],
      "execution_count": null,
      "outputs": []
    },
    {
      "cell_type": "code",
      "metadata": {
        "id": "ve7HvTzN_4P3"
      },
      "source": [
        "# instantiate the model\n",
        "decisiontree = DecisionTreeClassifier(criterion='gini', max_depth=10, random_state=0)\n",
        "\n",
        "\n",
        "# fit the model\n",
        "decisiontree.fit(X_train, y_train)\n",
        "\n",
        "\n",
        "y_pred = decisiontree.predict(X_test)\n",
        "\n",
        "print('Decision tree model accuracy score: {0:0.4f}'. format(accuracy_score(y_test, y_pred)*100))\n",
        "print('Decision tree model precision score: {0:0.4f}'. format(precision_score(y_test, y_pred,average='weighted')*100))\n",
        "print('Decision tree model sensitivity score: {0:0.4f}'. format(recall_score(y_test, y_pred,average='weighted')*100))\n",
        "\n",
        "\n",
        "cm_decisiontree= confusion_matrix(y_test,y_pred)"
      ],
      "execution_count": null,
      "outputs": []
    },
    {
      "cell_type": "code",
      "metadata": {
        "id": "75Ua_iJREDMv"
      },
      "source": [
        "estimate =[('knn',knn_final),('svm',svc),('decisiontree',decisiontree)]\n",
        "\n",
        "ensemble = VotingClassifier(estimate, voting='hard')"
      ],
      "execution_count": null,
      "outputs": []
    },
    {
      "cell_type": "code",
      "metadata": {
        "id": "H3LuMLNmE7T4"
      },
      "source": [
        "#fit model to trainning data\n",
        "ensemble.fit(X_train,y_train)\n",
        "\n",
        "y_pred = ensemble.predict(X_test)\n",
        "\n",
        "\n",
        "print('Voting Classifier model accuracy score: {0:0.4f}'. format(accuracy_score(y_test, y_pred)*100))\n",
        "print('Voting Classifier model precision score: {0:0.4f}'. format(precision_score(y_test, y_pred,average='weighted')*100))\n",
        "print('Voting Classifier model sensitivity score: {0:0.4f}'. format(recall_score(y_test, y_pred,average='weighted')*100))\n",
        "\n",
        "cm_ensemble= confusion_matrix(y_test,y_pred)"
      ],
      "execution_count": null,
      "outputs": []
    },
    {
      "cell_type": "code",
      "metadata": {
        "id": "N3Htbtc_FHAc"
      },
      "source": [
        "plt.figure(figsize=(20,15))\n",
        "\n",
        "plt.suptitle(\"Confusion Matrixes\",fontsize=20)\n",
        "\n",
        "\n",
        "plt.subplot(2,3,2)\n",
        "plt.title(\"K Nearest Neighbors Confusion Matrix\")\n",
        "sns.heatmap(cm_knn,cbar=False,annot=True,cmap=\"Greens\",fmt=\"d\")\n",
        "\n",
        "plt.subplot(2,3,3)\n",
        "plt.title(\"Support Vector Machine Confusion Matrix\")\n",
        "sns.heatmap(cm_svm,cbar=False,annot=True,cmap=\"Greens\",fmt=\"d\")\n",
        "\n",
        "\n",
        "plt.subplot(2,3,5)\n",
        "plt.title(\"Decision Tree Classifier Confusion Matrix\")\n",
        "sns.heatmap(cm_decisiontree,cbar=False,annot=True,cmap=\"Greens\",fmt=\"d\")\n",
        "\n",
        "plt.subplot(2,3,6)\n",
        "plt.title(\"Voting Classifier Confusion Matrix\")\n",
        "sns.heatmap(cm_ensemble,cbar=False,annot=True,cmap=\"Greens\",fmt=\"d\")\n",
        "\n",
        "plt.show()"
      ],
      "execution_count": null,
      "outputs": []
    }
  ]
}